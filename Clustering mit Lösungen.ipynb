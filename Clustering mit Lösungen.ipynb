{
 "cells": [
  {
   "cell_type": "markdown",
   "id": "3a13db93",
   "metadata": {},
   "source": [
    "# Clustering mit Lösungen\n",
    "In diesem Jupyter Notebook sollen Methoden des unüberwachten maschinellen Lernens betrachtet werden, um Cluster in Datenpunkten zu finden. Zu diesen Zählen der K-Means-Algorithmus, sowie der DBSCAN-Algorithmus."
   ]
  },
  {
   "cell_type": "markdown",
   "id": "7b6cc198",
   "metadata": {},
   "source": [
    "## Vorbereitungen\n",
    "Auch in diesem Jupyter Notebook werden die Pakete ``numpy`` und ``matplotlib.pyplot`` verwendet."
   ]
  },
  {
   "cell_type": "code",
   "execution_count": null,
   "id": "213d68c6",
   "metadata": {},
   "outputs": [],
   "source": [
    "import numpy as np\n",
    "import matplotlib.pyplot as plt"
   ]
  },
  {
   "cell_type": "markdown",
   "id": "fad4ab81",
   "metadata": {},
   "source": [
    "## K-Means"
   ]
  },
  {
   "cell_type": "markdown",
   "id": "a91b9535",
   "metadata": {},
   "source": [
    "### Visuelle Analyse"
   ]
  },
  {
   "cell_type": "markdown",
   "id": "5b9959f0",
   "metadata": {},
   "source": [
    "Zunächst sollen die Daten aus dem Datensatz ``clustering_data01.dat`` untersucht werden. Darin sind $x$- und $y$-Koordinaten von Datenpunkten in zwei Spalten eingetragen."
   ]
  },
  {
   "cell_type": "markdown",
   "id": "060acf00",
   "metadata": {},
   "source": [
    "__Aufgabe__: Lade den besagten Datensatz und trage diesen auf. Wie viele Cluster liegen in den Daten vor? Was wären geeigente Wahlen zum Initialiseren der Cluster Mittelpunkte? Warum kann auf dieses Problem k-Means angewandt werden?"
   ]
  },
  {
   "cell_type": "code",
   "execution_count": null,
   "id": "594dd748",
   "metadata": {
    "scrolled": true
   },
   "outputs": [],
   "source": [
    "# Laden der Daten\n",
    "x, y = np.loadtxt(\"clustering_data01.dat\", unpack = True)\n",
    "\n",
    "# Auftragen der Daten in einem Streudiagramm\n",
    "plt.scatter(x, y, color = 'k')\n",
    "\n",
    "# Schön machen des Diagramm\n",
    "plt.axis('equal')\n",
    "plt.grid(True, linestyle = '--')"
   ]
  },
  {
   "cell_type": "markdown",
   "id": "2f399beb",
   "metadata": {},
   "source": [
    "__Dikussion__: Es scheinen zwei Cluster vorzuliegen. Eines davon wirkt um den Punkt $(-1, -0.25)$ zentriert zu sein, während das andere um den Punkt $(1, 0.25)$ herum zentriert ist. Da beide Cluster eine nahezu kreisförmige Struktur aufweisen, ist eine der Grundvoraussetzungen für k-Means erfüllt."
   ]
  },
  {
   "cell_type": "markdown",
   "id": "80312589",
   "metadata": {},
   "source": [
    "### Bestimmen von Clusterzugehörigkeit und -mittelpunkten"
   ]
  },
  {
   "cell_type": "markdown",
   "id": "55614fbd",
   "metadata": {},
   "source": [
    "In der Vorlesung haben wir diskutiert, dass zu jedem Cluster $C_a$ ein Clustermittelpunkt $\\vec{c}_a$ gehört. Ein Datenpunkt $\\vec{x}_i$ wird dann dem Cluster zugeordnet, dessen Clustermittelpunkt er am nächsten liegt. Ziel ist es, dass Riskio\n",
    "$$\\hat{R} = \\frac{1}{N}\\sum\\limits_{a = 1}^k\\sum\\limits_{\\vec{x}_i\\in C_a}|\\vec{x}_i-\\vec{c}_a|^2$$\n",
    "zu minimieren. Die Lage der Clustermittelpunkte kann aus der Clusterzugehörigkeit der vorliegenden Datenpunkte mit\n",
    "$${\\vec{c}}_a = \\frac{1}{|C_a|}\\sum\\limits_{\\vec{x}_i\\in C_a}\\vec{x}_i$$\n",
    "ermittelt werden."
   ]
  },
  {
   "cell_type": "markdown",
   "id": "80347a9a",
   "metadata": {},
   "source": [
    "__Aufgabe__: Vervollständige das untenstehende Code-Gerüst zum Ermitteln der Clusterzugehörigkeit. Bestimme auch das Riskio für diese Konfiguration. Initialisere die Clustermittelpunkten mit passenden Werten. Plotte Dein Ergebnis und prüfe so, ob das Ergebnis zu Deiner Erwartung passt."
   ]
  },
  {
   "cell_type": "code",
   "execution_count": null,
   "id": "fab6372d",
   "metadata": {},
   "outputs": [],
   "source": [
    "# Funktion zum Bestimmen des Abstandes zu einem vorgegebenen Mittelpunkt\n",
    "def betrag(x, y, c):\n",
    "    return np.sqrt((x-c[0])**2+(y-c[1])**2)"
   ]
  },
  {
   "cell_type": "code",
   "execution_count": null,
   "id": "e0c9259b",
   "metadata": {
    "scrolled": true
   },
   "outputs": [],
   "source": [
    "# Initiale Lage der Mittelpunkte (Liste von x, y Paaren der Mittelpunkte)\n",
    "c = np.array([[1, .25], [-1, -.25]])\n",
    "\n",
    "# Anzahl der vorliegenden Datenpunkte\n",
    "N = len(x)\n",
    "\n",
    "# Zuordnung eines Punktes zu den Clustern 0 bzw. 1 wird durch einen Array mit Einträgen 0 bzw. 1 angegeben. \n",
    "index = np.zeros(N)\n",
    "\n",
    "# Initialisere das Risiko\n",
    "R0 = 0\n",
    "\n",
    "# Bestimmen der Clusterzugehörigkeit\n",
    "for n in range(N):\n",
    "    dist1 = betrag(x[n], y[n], c[0]) \n",
    "    dist2 = betrag(x[n], y[n], c[1])\n",
    "    if dist1 < dist2:\n",
    "        index[n] = 0\n",
    "        R0 += dist1**2\n",
    "    else:\n",
    "        index[n] = 1\n",
    "        R0 += dist2**2\n",
    "\n",
    "# Ausgeben des Risikos\n",
    "print(f'Das Risiko ist durch {R0/N:.2f} gegeben.')\n",
    "            \n",
    "# Auftragen der Datenpunkte mit farblicher Marierung durch index\n",
    "plt.scatter(x, y, c = index, cmap = 'seismic')\n",
    "\n",
    "# Auftragen der Clustermittelpunkte\n",
    "plt.plot(*c[0], marker = 'X', color = 'magenta', markersize = 10)\n",
    "plt.plot(*c[1], marker = 'X', color = 'cyan', markersize = 10)\n",
    "\n",
    "# Plot ausgeben\n",
    "plt.axis('equal')\n",
    "plt.show()"
   ]
  },
  {
   "cell_type": "markdown",
   "id": "86b64101",
   "metadata": {},
   "source": [
    "__Diskussion__: Die gefundenen Clusterzugehörigkeiten stimmen mit der augenscheinlichen Annahme überein."
   ]
  },
  {
   "cell_type": "markdown",
   "id": "3001f8dc",
   "metadata": {},
   "source": [
    "### Situation bei ungünstiger Initialisierung"
   ]
  },
  {
   "cell_type": "markdown",
   "id": "c08502ad",
   "metadata": {},
   "source": [
    "Da es unpraktisch ist, Datensätze zuerst von Menschen in Augenschein nehmen zu lassen, sind gute Clustermittelpunkte für die Initialisierung nicht von vorne herein bekannt. Zu diesem Zweck soll die gleiche Situation mit einer schlechten Initialiserung untersucht werden."
   ]
  },
  {
   "cell_type": "markdown",
   "id": "6cb4f76a",
   "metadata": {},
   "source": [
    "__Aufgabe__: Verwende den Code der vorherigen Aufgabe, um die Clusterzugehörigkeit für die initialen Mittelpunkte $\\vec{c}_0 = (0,1)$ und $\\vec{c}_1 = (0,-1)$ zu finden. Trage die Datenpunkte farblich markiert auf und diskutiere das Ergebnis. Trage dazu auch die verwendeten initialen Clustermittelpunkte auf. Was fällt für die verwendeten Clustermittelpunkte im Bezug zur Clusterzugehörigkeit auf?"
   ]
  },
  {
   "cell_type": "code",
   "execution_count": null,
   "id": "d078cd46",
   "metadata": {},
   "outputs": [],
   "source": [
    "# Initiale Lage der Mittelpunkte (Liste von x, y Paaren der Mittelpunkte)\n",
    "c = np.array([[0, 1], [0, -1]])\n",
    "\n",
    "# Anzahl der vorliegenden Datenpunkte\n",
    "N = len(x)\n",
    "\n",
    "# Zuordnung eines Punktes zu den Clustern 0 bzw. 1 wird durch einen Array mit Einträgen 0 bzw. 1 angegeben. \n",
    "index = np.zeros(N)\n",
    "\n",
    "# Initialisere das Risiko\n",
    "R0 = 0\n",
    "\n",
    "# Bestimmen der Clusterzugehörigkeit\n",
    "for n in range(N):\n",
    "    dist1 = betrag(x[n], y[n], c[0]) \n",
    "    dist2 = betrag(x[n], y[n], c[1])\n",
    "    if dist1 < dist2:\n",
    "        index[n] = 0\n",
    "        R0 += dist1**2\n",
    "    else:\n",
    "        index[n] = 1\n",
    "        R0 += dist2**2\n",
    "\n",
    "# Ausgeben des Risikos\n",
    "print(f'Das Risiko ist durch {R0/N:.2f} gegeben.')\n",
    "            \n",
    "# Auftragen der Datenpunkte mit farblicher Marierung durch index\n",
    "plt.scatter(x, y, c = index, cmap = 'seismic')\n",
    "\n",
    "# Auftragen der Clustermittelpunkte\n",
    "plt.plot(*c[0], marker = 'X', color = 'magenta', markersize = 10)\n",
    "plt.plot(*c[1], marker = 'X', color = 'cyan', markersize = 10)\n",
    "\n",
    "# Plot ausgeben\n",
    "plt.axis('equal')\n",
    "plt.show()"
   ]
  },
  {
   "cell_type": "markdown",
   "id": "40acde94",
   "metadata": {},
   "source": [
    "__Diskussion__: Die gefundenen Cluster stimmen offensichtlich nicht mit den tatsächlichen Clustern überein. Tatsächlich lässt sich aber auch erkennen, dass die verwendeten Clustermittelpunkte nicht mit den augenscheinlichen Mittelpunkten der gefundenen Clusterzugehörigkeit übereinstimmen. Im nächsten Schritt des k-Means-Algorithmus werden sich also Clusterzugehörigkeiten verschieben. Ein weitere Unterschied zu der vorherigen Ausführung liegt im Risiko. Dieses fällt hier wesentlich höher (etwa Faktor 10) aus."
   ]
  },
  {
   "cell_type": "markdown",
   "id": "528f223a",
   "metadata": {},
   "source": [
    "__Aufgabe__: Verwende das untenstehende Code-Gerüst, um die neuen Clustermittelpunkte und -zugehörigkeiten zu bestimmen. Trage deine Ergebnisse auf und diskutiere diese hinsichtlich der Clusterzugehörigkeit und der Lage der verwendeten Mittelpunkte. Wie ändert sich das Risiko?"
   ]
  },
  {
   "cell_type": "code",
   "execution_count": null,
   "id": "1e4c0309",
   "metadata": {},
   "outputs": [],
   "source": [
    "# Berechne neue Mittelpunkte\n",
    "N2 = np.sum(index)    # ist index = 1, so gehört der Punkt zu c2\n",
    "N1 = N-N2    # alle anderen Punkte gehören zu c1\n",
    "\n",
    "# Ermittle die Koordinaten der neuen Datenpunkte (verwendet die Komponentenweise Vektormultiplikation mit x bzw. y und index)\n",
    "x_c1 = np.sum((1-index)*x)/N1    \n",
    "y_c1 = np.sum((1-index)*y)/N1\n",
    "x_c2 = np.sum(index*x)/N2\n",
    "y_c2 = np.sum(index*y)/N2\n",
    "\n",
    "c = np.array([[x_c1, y_c1], [x_c2, y_c2]])\n",
    "\n",
    "\n",
    "# Initialisiere das Risiko\n",
    "R1 = 0\n",
    "\n",
    "# Bestimme die Clusterzugehörigkeit\n",
    "for n in range(N):\n",
    "    dist1 = betrag(x[n], y[n], c[0]) \n",
    "    dist2 = betrag(x[n], y[n], c[1])\n",
    "    if dist1 < dist2:\n",
    "        index[n] = 0\n",
    "        R1 += dist1**2\n",
    "    else:\n",
    "        index[n] = 1\n",
    "        R1 += dist2**2\n",
    "\n",
    "print(f'Das Risiko ist durch {R1/N:.2f} gegeben.')\n",
    "             \n",
    "# Auftragen der Daten\n",
    "plt.scatter(x, y, c = index, cmap = 'seismic')\n",
    "\n",
    "# Auftragen der verwendeten Mittelpunkte\n",
    "plt.plot(*c[0], marker = 'X', color = 'magenta', markersize = 10)\n",
    "plt.plot(*c[1], marker = 'X', color = 'cyan', markersize = 10)\n",
    "\n",
    "plt.axis('equal')\n",
    "plt.show()"
   ]
  },
  {
   "cell_type": "markdown",
   "id": "701c208b",
   "metadata": {},
   "source": [
    "__Diskussion__: Die Datenpunkte wurden jetzt alle den richtigen Clustern zugeordnet. Das Risiko ist gesunken. Die Clustermittelpunkte stimmen jedoch noch nicht mit den augenscheinlichen überein. Die relative Änderung des Risikos ist durch `-86.48 %` gegben. Es ist mit `0.22` jedoch immer noch höher als das minimale Risiko von `0.13`."
   ]
  },
  {
   "cell_type": "markdown",
   "id": "67c07d7d",
   "metadata": {},
   "source": [
    "__Aufgabe__: Verwende den Code der vorherigen Aufgabe und wiederholen den Prozess so lange, bis sich das Risko nicht mehr ändert. Trage jedes Mal die Clusterzugehörigkeit und die verwendeten Clustermittelpunkte auf."
   ]
  },
  {
   "cell_type": "code",
   "execution_count": null,
   "id": "8223c46c",
   "metadata": {},
   "outputs": [],
   "source": [
    "# Berechne neue Mittelpunkte\n",
    "N2 = np.sum(index)    # ist index = 1, so gehört der Punkt zu c2\n",
    "N1 = N-N2    # alle anderen Punkte gehören zu c1\n",
    "\n",
    "# Ermittle die Koordinaten der neuen Datenpunkte (verwendet die Komponentenweise Vektormultiplikation mit x bzw. y und index)\n",
    "x_c1 = np.sum((1-index)*x)/N1    \n",
    "y_c1 = np.sum((1-index)*y)/N1\n",
    "x_c2 = np.sum(index*x)/N2\n",
    "y_c2 = np.sum(index*y)/N2\n",
    "\n",
    "c = np.array([[x_c1, y_c1], [x_c2, y_c2]])\n",
    "\n",
    "\n",
    "# Initialisiere das Risiko\n",
    "R2 = 0\n",
    "\n",
    "# Bestimme die Clusterzugehörigkeit\n",
    "for n in range(N):\n",
    "    dist1 = betrag(x[n], y[n], c[0]) \n",
    "    dist2 = betrag(x[n], y[n], c[1])\n",
    "    if dist1 < dist2:\n",
    "        index[n] = 0\n",
    "        R2 += dist1**2\n",
    "    else:\n",
    "        index[n] = 1\n",
    "        R2 += dist2**2\n",
    "\n",
    "print(f'Das Risiko ist durch {R2/N:.2f} gegeben. Die relative Änderung ist durch {(R2-R1)/R1*100:.2f} % gegeben')\n",
    "             \n",
    "# Auftragen der Daten\n",
    "plt.scatter(x, y, c = index, cmap = 'seismic')\n",
    "\n",
    "# Auftragen der verwendeten Mittelpunkte\n",
    "plt.plot(*c[0], marker = 'X', color = 'magenta', markersize = 10)\n",
    "plt.plot(*c[1], marker = 'X', color = 'cyan', markersize = 10)\n",
    "\n",
    "plt.axis('equal')\n",
    "plt.show()"
   ]
  },
  {
   "cell_type": "code",
   "execution_count": null,
   "id": "375f78dd",
   "metadata": {},
   "outputs": [],
   "source": [
    "# Berechne neue Mittelpunkte\n",
    "N2 = np.sum(index)    # ist index = 1, so gehört der Punkt zu c2\n",
    "N1 = N-N2    # alle anderen Punkte gehören zu c1\n",
    "\n",
    "# Ermittle die Koordinaten der neuen Datenpunkte (verwendet die Komponentenweise Vektormultiplikation mit x bzw. y und index)\n",
    "x_c1 = np.sum((1-index)*x)/N1    \n",
    "y_c1 = np.sum((1-index)*y)/N1\n",
    "x_c2 = np.sum(index*x)/N2\n",
    "y_c2 = np.sum(index*y)/N2\n",
    "\n",
    "c = np.array([[x_c1, y_c1], [x_c2, y_c2]])\n",
    "\n",
    "\n",
    "# Initialisiere das Risiko\n",
    "R3 = 0\n",
    "\n",
    "# Bestimme die Clusterzugehörigkeit\n",
    "for n in range(N):\n",
    "    dist1 = betrag(x[n], y[n], c[0]) \n",
    "    dist2 = betrag(x[n], y[n], c[1])\n",
    "    if dist1 < dist2:\n",
    "        index[n] = 0\n",
    "        R3 += dist1**2\n",
    "    else:\n",
    "        index[n] = 1\n",
    "        R3 += dist2**2\n",
    "\n",
    "print(f'Das Risiko ist durch {R3/N:.2f} gegeben. Die relative Änderung ist durch {(R3-R2)/R2*100:.2f} % gegeben')\n",
    "             \n",
    "# Auftragen der Daten\n",
    "plt.scatter(x, y, c = index, cmap = 'seismic')\n",
    "\n",
    "# Auftragen der verwendeten Mittelpunkte\n",
    "plt.plot(*c[0], marker = 'X', color = 'magenta', markersize = 10)\n",
    "plt.plot(*c[1], marker = 'X', color = 'cyan', markersize = 10)\n",
    "\n",
    "plt.axis('equal')\n",
    "plt.show()"
   ]
  },
  {
   "cell_type": "markdown",
   "id": "8578b790",
   "metadata": {},
   "source": [
    "### Die k-Means-Methode"
   ]
  },
  {
   "cell_type": "markdown",
   "id": "709ce12c",
   "metadata": {},
   "source": [
    "Anstatt die selben Code-Zeilen immer wieder von Hand zu implementieren, bietet es sich an, eine passende Methode zu schreiben, welche die einzelnen Schritte so lange wiederhohlt, bis sich das Risiko nicht mehr ändert."
   ]
  },
  {
   "cell_type": "markdown",
   "id": "baf48cb1",
   "metadata": {},
   "source": [
    "__Aufgabe__: Vervollständige das untenstehnde Code-Gerüst um den k-Means Algorithmus als eine Methode zu implementieren. Wende diesen dann auf den vorliegenden Datensatz an und prüfe, ob sich das richtige Ergebnis einstellt."
   ]
  },
  {
   "cell_type": "code",
   "execution_count": null,
   "id": "cc65de8b",
   "metadata": {},
   "outputs": [],
   "source": [
    "def kMeans(k, x, y, c_init, thres = 0.01):\n",
    "    # k - die Anzahl der Cluster\n",
    "    # x - die x-Werte eines 2d Datensatzes\n",
    "    # y - die y-Werte eines 2d Datensatzes\n",
    "    # c_init - die initialisierten Werte für die Clustermittelpunkte\n",
    "    # thres - der prozentteil unter den die relative Änderung des Risikos fallen muss, damit der Algorithmus terminiert\n",
    "    \n",
    "    # Konsistenzprüfungen\n",
    "    if len(x)!=len(y):\n",
    "        print('Ein Fehler ist aufgetreten: x und y passen nicht zusammen!')\n",
    "        return\n",
    "        \n",
    "    if k!=np.shape(c_init)[0]:\n",
    "        print('Ein Fehler ist aufgetreten: k und c passen nicht zusammen!')\n",
    "        return\n",
    "    \n",
    "    # Initialisieren eines Arrays für die Clustermittelpunkte\n",
    "    c = c_init.astype(dtype = float) # Wenn integer arrays eingegeben werden, kann dies zu Problemen führen, deshalb der typecast\n",
    "    \n",
    "    # Anzahl der Datenpunkte\n",
    "    N = len(x)\n",
    "    \n",
    "    # Initialisiere das Riskio\n",
    "    Rt = 0\n",
    "    \n",
    "    # Betsimmen der Clusterzugehörigkeit\n",
    "    index = np.zeros(N, dtype = int)\n",
    "    \n",
    "    for n in range(N):\n",
    "        dist = np.zeros(k)\n",
    "        for i in range(k):\n",
    "            dist[i] = betrag(x[n], y[n], c[i]) \n",
    "        index[n] = np.argmin(dist)\n",
    "        Rt += dist[index[n]]**2\n",
    "                \n",
    "    # Anlegen eines Arrays mit dem Risiko\n",
    "    R = np.array([Rt/N])\n",
    "    \n",
    "    # Initialisieren eines relativen Fehlers für R auf 100 %\n",
    "    delR = 1\n",
    "        \n",
    "    # Iterativen Prozess starten\n",
    "    while abs(delR) > thres:\n",
    "        # Zähle die Elemente in jedem Cluster  \n",
    "        cN = np.zeros(k, dtype = int)\n",
    "        for i in range(k):\n",
    "            # Der Befehl np.count_nonzero(array) zählt, wie viele Elemente nicht Null sind\n",
    "            # Wird ein array mit einem bestimmten Wert verglichen, z.B. array == 3, wird überall dort, wo der array dem Wert \n",
    "            # entspricht eine Eins eingetragen, überall sonst eine Null\n",
    "            cN[i] = np.count_nonzero(index == i)\n",
    "        \n",
    "        # Bestimme die neuen Clustermittelpunkte\n",
    "        for i in range(k):\n",
    "            c[i][0] = np.sum((index==i)*x)/cN[i]\n",
    "            c[i][1] = np.sum((index==i)*y)/cN[i]\n",
    "           \n",
    "        \n",
    "        # Initialisiere das Riskio\n",
    "        Rt = 0\n",
    "    \n",
    "        # Betsimmen der Clusterzugehörigkeit    \n",
    "        for n in range(N):\n",
    "            dist = np.zeros(k)\n",
    "            for i in range(k):\n",
    "                dist[i] = betrag(x[n], y[n], c[i]) \n",
    "            index[n] = np.argmin(dist)\n",
    "            Rt += dist[index[n]]**2\n",
    "        \n",
    "        # Erweitern des Arrays mit Risiko\n",
    "        R = np.append(R, Rt/n)\n",
    "    \n",
    "        # Bestimmen des relativen Fehlers für R\n",
    "        Nt = len(R)\n",
    "        delR = (R[Nt-1]-R[Nt-2])/R[Nt-1]\n",
    "        \n",
    "    # Gebe die Clusterzugehörigkeit, die Clustermittelpunkte und das Risiko zurück\n",
    "    return index, c, R  "
   ]
  },
  {
   "cell_type": "markdown",
   "id": "23745e90",
   "metadata": {},
   "source": [
    "#### Anwenden der Methode auf das obige Beispiel"
   ]
  },
  {
   "cell_type": "code",
   "execution_count": null,
   "id": "b61fb27e",
   "metadata": {},
   "outputs": [],
   "source": [
    "# Laden der Daten\n",
    "x, y = np.loadtxt(\"clustering_data01.dat\", unpack = True)\n",
    "\n",
    "# Initialisieren der Clustermittelpunkte\n",
    "c_init = np.array([[0, 1.], [0, -1.]])\n",
    "\n",
    "# Anwenden der Methode\n",
    "index, c, R = kMeans(2, x, y, c_init)\n",
    "\n",
    "# Ausgeben des Risikos\n",
    "print(R)\n",
    "\n",
    "# Auftragen der Daten\n",
    "plt.scatter(x, y, c = index, cmap = 'seismic')\n",
    "\n",
    "# Auftragen der gefundenen Mittelpunkte\n",
    "plt.plot(*c[0], marker = 'X', color = 'magenta', markersize = 10)\n",
    "plt.plot(*c[1], marker = 'X', color = 'cyan', markersize = 10)\n",
    "\n",
    "plt.axis('equal')\n",
    "plt.show()"
   ]
  },
  {
   "cell_type": "markdown",
   "id": "f1b986d8",
   "metadata": {},
   "source": [
    "## DBSCAN\n",
    "In der Vorlesung haben wir auch darüber gesprochen, dass Cluster durch die DBSCAN-Methode ermittelt werden können. Wir wollen dazu weiterhin den Datensatz ``clustering_data01.dat`` betrachten. \n",
    "\n",
    "Die DBSCAN-Methode verfügt über zwei Hyperparameter:\n",
    "* `eps` gibt den Radius der betrachteten Epsilon-Umgebung an\n",
    "* `NPts` gibt die Mindestanzahl an Punkten an, die in einer Epsilon-Umgebung vorhanden sein müssen, damit es sich beim Mittelpunkt der Umgebung um ein Kernelement handelt.\n",
    "\n",
    "Es bietet sich zur Implementierung folgende Idee an: Die Datenpunkte liegen in Form von Arrays `x` und `y` der Länge `N` vor. Das bedeutet, die Datenpunkte können über ihren Index `n` (startend bei `0`) eindeutig identifiziert werden. Es werden zwei zusätzliche Arrays `part_of_cluster` und `visited` angelegt. \n",
    "* In `part_of_cluster` wird ein Index, welcher das Cluster identifiziert (startend bei `1`) an der entsprechenden Stelle des Datenpunktes festgelegt. Ist der Datenpunkt `37` also Teil des Clusters `7`, so würde die Abfrage `part_of_cluster[37]` das Ergebnis `7` ergeben. Wird der Wert `-1` hinterlegt, so handelt es sich um Rauschen.\n",
    "* In `visited` wird hinterlegt, ob ein Datenpunkt bereits besucht wurde. Es sollen nur die Einträge `0` und `1` betrachtet werden, wobei `0` nicht besucht und `1` besucht bedeutet. Bereits besuchte Datenpunkte wurden einem Cluster hinzugefügt und müssen daher nicht weiter betrachtet werden.\n",
    "\n"
   ]
  },
  {
   "cell_type": "markdown",
   "id": "671f24f7",
   "metadata": {},
   "source": [
    "__Aufgabe__: Vervollständige das unten stehende Code-Gerüst, um die DBSCAN-Methode für die Datenpunkte des Datensatzes `clustering_data01.dat` ausführen zu können. Ermittle passende Werte für die Hyperparameter `eps` und `NPts`, um die zwei gleichen Cluster wie bei der k-Means Methode zu erhalten."
   ]
  },
  {
   "cell_type": "code",
   "execution_count": null,
   "id": "93362040",
   "metadata": {
    "scrolled": true
   },
   "outputs": [],
   "source": [
    "# Laden der Daten und Auslesen der Anzahl an Datenpunkten\n",
    "x, y = np.loadtxt(\"clustering_data01.dat\", unpack = True)\n",
    "N = len(x)\n",
    "\n",
    "# Festlegen der Hyperparameter\n",
    "NPts = 5\n",
    "eps = .45\n",
    "\n",
    "# Array zum Festhalten, welche Punkte besucht wurden\n",
    "visited = np.zeros(N, dtype = int)\n",
    "\n",
    "# Array, der die Zugehörigkeit zu den Clustern festhält, die Cluster werden durch Integer Werte festgehalten\n",
    "part_of_cluster = np.zeros(N, dtype = int)\n",
    "\n",
    "# Methode um räumlichen Abstand zwischen zwei Punkten zu ermitteln\n",
    "def abstand(n, m):\n",
    "    return np.sqrt((x[n]-x[m])**2+(y[n]-y[m])**2)\n",
    "\n",
    "# Methode um Liste mit allen Punkten in der eps-Umgebung eines Punktes zu erhalten\n",
    "def regionQuery(n):\n",
    "    # Liste in der alle Indices der Punkte in der eps-Umgebung aufgeführt werden\n",
    "    index = np.array([], dtype = int)\n",
    "    for m in range(N):\n",
    "        if abstand(n, m) < eps:\n",
    "            index = np.append(index, m)\n",
    "    return index\n",
    "\n",
    "# Methode, die ein Cluster c um die epsilon Umgebung eines Punktes und die daraus resultierende verknüpfte Nachbarschaft erweitert\n",
    "def expandCluster(n, Nachbarschaft, c):\n",
    "    \n",
    "    # Punkt n muss als Element des Clusters c markiert werden\n",
    "    part_of_cluster[n] = c\n",
    "    \n",
    "    # Alle Punkte der Nachbarschaft von n müssen besucht werden. Dazu werden diese über den Index k angesteuert\n",
    "    k = 0\n",
    "    while k < len(Nachbarschaft):\n",
    "        \n",
    "        # Der Index eines Elements der Nachbarschaft im Datensatz muss ermittelt werden\n",
    "        m = Nachbarschaft[k]\n",
    "        \n",
    "        if visited[m] == 0 :\n",
    "            # Markier Punkt m als besucht\n",
    "            visited[m] = 1\n",
    "            # Bestimme Nachbarschaft um m\n",
    "            Nachbarschaft_neu = regionQuery(m)\n",
    "            # Falls m ein Kernelement ist, muss die Nachbarschaft um die eps-Umgebung von m erweitert werden.\n",
    "            if len(Nachbarschaft_neu) >= NPts:\n",
    "                # der Befehl np.unique(array) entfernt doppelte Elemente\n",
    "                Nachbarschaft = np.unique(np.append(Nachbarschaft, Nachbarschaft_neu))\n",
    "                \n",
    "                # Da die Nachbarschaft upgedated wurde, muss sie neu durchgegangen werden\n",
    "                k = 0\n",
    "                \n",
    "        # m muss dem Cluster hinzugefügt werden, falls dies nicht schon geschehen ist \n",
    "        if part_of_cluster[m]<=0:\n",
    "            part_of_cluster[m] = c\n",
    "        k += 1\n",
    "            \n",
    "\n",
    "# DBSCAN_Methode\n",
    "\n",
    "# Setze Cluster-Index auf Null, bei neuen Clustern wird dieser zuerst erhöht, so dass die eigentlichen CLuster bei 1 beginnen\n",
    "c = 0\n",
    "for n in range(N):\n",
    "    if visited[n]==0:\n",
    "        \n",
    "        # Markiere Punkt als besucht\n",
    "        visited[n] = 1\n",
    "        \n",
    "        # Bestimmen der Nachbarschaft um Punkt n\n",
    "        Nachbarschaft = regionQuery(n)\n",
    "        \n",
    "        # Feststellen, ob Punkt Kernelement ist\n",
    "        if len(Nachbarschaft) < NPts:\n",
    "            # n ist kein Kernelement und wird als Rauschen markiert\n",
    "            part_of_cluster[n] = -1\n",
    "        else:\n",
    "            # n ist ein Kernelement und markiert damit den Startpunkt eines neuen Clusters\n",
    "            c += 1\n",
    "            # Das Cluster c muss um das Element n und seine verknüpfte Nachbarschaft erweitert werden\n",
    "            expandCluster(n, Nachbarschaft, c)\n",
    "\n",
    "# Auftragen der Daten\n",
    "plt.scatter(x, y, c = part_of_cluster, cmap = 'tab10')\n",
    "\n",
    "plt.axis('equal')\n",
    "plt.show()"
   ]
  },
  {
   "cell_type": "markdown",
   "id": "563c1c64",
   "metadata": {},
   "source": [
    "__Diskussion__: Mit den Hyperparametern `eps = 0.45` und `NPts = 5` ergeben sich die beiden Cluster von zuvor."
   ]
  },
  {
   "cell_type": "markdown",
   "id": "4d9bceb2",
   "metadata": {},
   "source": [
    "### Die DBSCAN-Methode\n"
   ]
  },
  {
   "cell_type": "markdown",
   "id": "bf602293",
   "metadata": {},
   "source": [
    "Auch beim DBSCAN-Algorithmus ist es wünschenswert, eine Methode zu formulieren, die auf beliebige zwei dimensionale Datensätze angewendet werden kann."
   ]
  },
  {
   "cell_type": "markdown",
   "id": "6d864a2a",
   "metadata": {},
   "source": [
    "__Aufgabe__: Verwende das untenstehende Code-Gerüst, um den DBSCAN-Algorithmus als eine Methode zu implementieren und wende diese auf den obigen Datensatz an."
   ]
  },
  {
   "cell_type": "code",
   "execution_count": null,
   "id": "ba0c9935",
   "metadata": {},
   "outputs": [],
   "source": [
    "# Methode um den Abstand zweier Datenpunkte zu ermitteln\n",
    "def abstand(n, m, x, y):\n",
    "    return np.sqrt((x[n]-x[m])**2+(y[n]-y[m])**2)"
   ]
  },
  {
   "cell_type": "code",
   "execution_count": null,
   "id": "269463f1",
   "metadata": {},
   "outputs": [],
   "source": [
    "# Methode um die eps-Umgebung eines Datenpunktes zu erhalten\n",
    "def regionQuery(n, eps, x, y):\n",
    "    # Liste in der alle Indices der Punkte in der eps-Umgebung aufgeführt werden\n",
    "    index = np.array([], dtype = int)\n",
    "    for m in range(N):\n",
    "        if abstand(n, m, x, y) < eps:\n",
    "            index = np.append(index, m)\n",
    "    return index"
   ]
  },
  {
   "cell_type": "code",
   "execution_count": null,
   "id": "fea21813",
   "metadata": {},
   "outputs": [],
   "source": [
    "# Methode, die ein Cluster c um die epsilon Umgebung eines Punktes und die daraus resultierende verknüpfte Nachbarschaft erweitert\n",
    "def expandCluster(n, Nachbarschaft, c, x, y, part_of_cluster, visited, eps, NPts):\n",
    "    \n",
    "    # Punkt n muss als Element des Clusters c markiert werden\n",
    "    part_of_cluster[n] = c\n",
    "    \n",
    "    # Alle Punkte der Nachbarschaft von n müssen besucht werden. Dazu werden diese über den Index k angesteuert\n",
    "    k = 0\n",
    "    while k < len(Nachbarschaft):\n",
    "        \n",
    "        # Der Index eines Elements der Nachbarschaft im Datensatz muss ermittelt werden\n",
    "        m = Nachbarschaft[k]\n",
    "        \n",
    "        if visited[m] == 0 :\n",
    "            # Markier Punkt m als besucht\n",
    "            visited[m] = 1\n",
    "            # Bestimme Nachbarschaft um m\n",
    "            Nachbarschaft_neu = regionQuery(m, eps, x, y)\n",
    "            # Falls m ein Kernelement ist, muss die Nachbarschaft um die eps-Umgebung von m erweitert werden.\n",
    "            if len(Nachbarschaft_neu) >= NPts:\n",
    "                # der Befehl np.unique(array) entfernt doppelte Elemente\n",
    "                Nachbarschaft = np.unique(np.append(Nachbarschaft, Nachbarschaft_neu))\n",
    "                \n",
    "                # Da die Nachbarschaft upgedated wurde, muss sie neu durchgegangen werden\n",
    "                k = 0\n",
    "                \n",
    "        # m muss dem Cluster hinzugefügt werden, falls dies nicht schon geschehen ist \n",
    "        if part_of_cluster[m]<=0:\n",
    "            part_of_cluster[m] = c\n",
    "        k += 1"
   ]
  },
  {
   "cell_type": "code",
   "execution_count": null,
   "id": "a268f39a",
   "metadata": {},
   "outputs": [],
   "source": [
    "# DBSCAN-Methode\n",
    "def DBSCAN(x, y, eps = 0.5, NPts = 5):\n",
    "    \n",
    "    # Konsistenzprüfung\n",
    "    if len(x)!=len(y):\n",
    "        print('Ein Fehler ist aufgetreten, x passt nicht zu y')\n",
    "        return\n",
    "    \n",
    "    # Bestimme Anzahl der Datenpunkte\n",
    "    N = len(x)\n",
    "    \n",
    "    # Array zum festhalten, welche Punkte besucht wurden\n",
    "    visited = np.zeros(N, dtype = int)\n",
    "\n",
    "    # Array, der die Zugehörigkeit zu den Clustern festhält, die Cluster werden durch integer Werte festgehalten\n",
    "    part_of_cluster = np.zeros(N, dtype = int)\n",
    "    \n",
    "    # Setze Cluster-Index auf Null, bei neuen Clustern wird dieser zuerst erhöht, so dass die eigentlichen CLuster bei 1 beginnen\n",
    "    c = 0\n",
    "    for n in range(N):\n",
    "        if visited[n]==0:\n",
    "        \n",
    "            # Markiere Punkt als besucht\n",
    "            visited[n] = 1\n",
    "        \n",
    "            # Bestimmen der Nachbarschaft um Punkt n\n",
    "            Nachbarschaft = regionQuery(n, eps, x, y)\n",
    "        \n",
    "            # Feststellen, ob Punkt Kernelement ist\n",
    "            if len(Nachbarschaft) < NPts:\n",
    "                # n ist kein Kernelement und wird als Rauschen markiert\n",
    "                part_of_cluster[n] = -1\n",
    "            else:\n",
    "                # n ist ein Kernelement und markiert damit den Startpunkt eines neuen Clusters\n",
    "                c += 1\n",
    "                # Das Cluster c muss um das Element n und seine verknüpfte Nachbarschaft erweitert werden\n",
    "                expandCluster(n, Nachbarschaft, c, x, y, part_of_cluster, visited, eps, NPts)\n",
    "            \n",
    "    # Gib part_of_cluster zurück\n",
    "    return part_of_cluster"
   ]
  },
  {
   "cell_type": "markdown",
   "id": "daf6992f",
   "metadata": {},
   "source": [
    "#### Anwenden auf Datensatz"
   ]
  },
  {
   "cell_type": "code",
   "execution_count": null,
   "id": "cd8a59ee",
   "metadata": {},
   "outputs": [],
   "source": [
    "# Laden der Daten\n",
    "x, y = np.loadtxt(\"clustering_data01.dat\", unpack = True)\n",
    "\n",
    "# Ausführen der DBSCAN-Methode\n",
    "cluster = DBSCAN(x, y, eps = 0.45, NPts = 5)\n",
    "\n",
    "# Auftragen der Ergebnisse\n",
    "plt.scatter(x, y, c = part_of_cluster, cmap = 'tab10')\n",
    "\n",
    "plt.axis('equal')\n",
    "plt.show()"
   ]
  },
  {
   "cell_type": "markdown",
   "id": "1cb739df",
   "metadata": {},
   "source": [
    "## Clustering bei elliptischen Datenwolken\n",
    "Im Datensatz ``clustering_data02.dat`` sind Datenpunkte in der $xy$-Ebene aufgetragen, die keine kugelförmigen Wolken darstellen. "
   ]
  },
  {
   "cell_type": "markdown",
   "id": "700c68e0",
   "metadata": {},
   "source": [
    "### Visuelle Vorbewertung"
   ]
  },
  {
   "cell_type": "markdown",
   "id": "c0e7e516",
   "metadata": {},
   "source": [
    "__Aufgabe__: Trage die Daten auf und bewerte, wie viele Cluster vorhanden sein sollten."
   ]
  },
  {
   "cell_type": "code",
   "execution_count": null,
   "id": "3889f9ee",
   "metadata": {},
   "outputs": [],
   "source": [
    "# Laden der Daten\n",
    "x, y = np.loadtxt(\"clustering_data02.dat\", unpack = True)\n",
    "\n",
    "# Auftragen der Daten\n",
    "plt.scatter(x, y, color = 'k', cmap = 'seismic')\n",
    "\n",
    "plt.axis('equal')\n",
    "plt.show()"
   ]
  },
  {
   "cell_type": "markdown",
   "id": "a5ecac97",
   "metadata": {},
   "source": [
    "__Diskussion__: Es sind zwei Cluster zu sehen, die wie zwei parallel angeordnete Striche aussehen. Es könnte eine jeweils elliptische Verteilung zu grunde liegen."
   ]
  },
  {
   "cell_type": "markdown",
   "id": "e10eb28c",
   "metadata": {},
   "source": [
    "### Ermitteln der Cluster mit k-Means vs. DBSCAN"
   ]
  },
  {
   "cell_type": "markdown",
   "id": "94ed72ae",
   "metadata": {},
   "source": [
    "__Aufgabe__: Wende die k-Means-Methode, sowie die DBSCAN-Methode an, um Cluster zu bestimmen. Gibt es für jede Methode geeignete Hyperparameter, mit denen sich die visuell erkennbaren Cluster ergeben?"
   ]
  },
  {
   "cell_type": "markdown",
   "id": "fd868ead",
   "metadata": {},
   "source": [
    "#### k-Means"
   ]
  },
  {
   "cell_type": "code",
   "execution_count": null,
   "id": "533c94cc",
   "metadata": {},
   "outputs": [],
   "source": [
    "# Laden der Daten\n",
    "x, y = np.loadtxt(\"clustering_data02.dat\", unpack = True)\n",
    "\n",
    "# Initialisieren der Clustermittelpunkte\n",
    "c_init = np.array([[-1., 0], [1., 0]])\n",
    "#c_init = np.random.rand(2, 2)\n",
    "\n",
    "# Anwenden der Methode\n",
    "index, c, R = kMeans(2, x, y, c_init)\n",
    "\n",
    "# Auftragen der Daten\n",
    "plt.scatter(x, y, c = index, cmap = 'seismic')\n",
    "\n",
    "# Auftragen der gefundenen Mittelpunkte\n",
    "plt.plot(*c[0], marker = 'X', color = 'magenta', markersize = 10)\n",
    "plt.plot(*c[1], marker = 'X', color = 'cyan', markersize = 10)\n",
    "\n",
    "plt.axis('equal')\n",
    "plt.show()"
   ]
  },
  {
   "cell_type": "markdown",
   "id": "e674de45",
   "metadata": {},
   "source": [
    "__Diskussion von k-Means__: Selbst mit zufälligen Initialisierungen von `c_init` gibt es keine Startkonfiguration unter der sich die zwei offensichtlichen Cluster ergeben. Es bleiben immer der obere Punkt im linken Cluster und der untere Punkt im rechten Cluster falsch zugeordnet. Der Grund liegt darin, dass die Grundannahme kugelförmiger Cluster hier nicht gegeben ist."
   ]
  },
  {
   "cell_type": "markdown",
   "id": "363bf42a",
   "metadata": {},
   "source": [
    "#### DBSCAN"
   ]
  },
  {
   "cell_type": "code",
   "execution_count": null,
   "id": "62878d1a",
   "metadata": {
    "scrolled": true
   },
   "outputs": [],
   "source": [
    "# Laden der Daten\n",
    "x, y = np.loadtxt(\"clustering_data02.dat\", unpack = True)\n",
    "\n",
    "# Ausführen der DBSCAN-Methode\n",
    "cluster = DBSCAN(x, y, eps = 1.4, NPts = 4)\n",
    "\n",
    "# Auftragen der Ergebnisse\n",
    "plt.scatter(x, y, c = cluster, cmap = 'tab10')\n",
    "\n",
    "plt.axis('equal')\n",
    "plt.show()"
   ]
  },
  {
   "cell_type": "markdown",
   "id": "eaa4a0bc",
   "metadata": {},
   "source": [
    "__Diskussion von DBSCAN__: Mit den Hyperparametern `eps = 1.4` und `NPts = 4` werden die beiden Cluster richtig erkannt. DBSCAN benötigt keine Annahme über die Form der Cluster, wie bei k-Means. Außerdem muss die Anzahl der Cluster nicht von vorne herein bekannt sein."
   ]
  }
 ],
 "metadata": {
  "kernelspec": {
   "display_name": "Python 3 (ipykernel)",
   "language": "python",
   "name": "python3"
  },
  "language_info": {
   "codemirror_mode": {
    "name": "ipython",
    "version": 3
   },
   "file_extension": ".py",
   "mimetype": "text/x-python",
   "name": "python",
   "nbconvert_exporter": "python",
   "pygments_lexer": "ipython3",
   "version": "3.8.1"
  }
 },
 "nbformat": 4,
 "nbformat_minor": 5
}
