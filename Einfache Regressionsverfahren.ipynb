{
 "cells": [
  {
   "cell_type": "markdown",
   "id": "abe6877c",
   "metadata": {},
   "source": [
    "# Einfache Regressionsverfahren\n",
    "In diesem Jupyter Notebook sollen die Regressionsverfahren aus der Vorlesung angewandt und ausprobiert werden. Zu diesem Zweck stehen einige (synthetische) [Datensätze](https://github.com/MarkEich96/Maschinelles-Lernen-SoSe-2024/tree/main) zur Verfügung. "
   ]
  },
  {
   "cell_type": "markdown",
   "id": "68867c1d",
   "metadata": {},
   "source": [
    "## Vorbereitungen\n",
    "Zum einen, sollen große Datenmengen besonders effizient verarbeitet werden, wozu das Paket `numpy` benötigt wird. Andererseits ist es auch praktisch die Ergebnisse grafisch aufzutragen. Hierzu wird das Paket `matplotlib` herangezogen."
   ]
  },
  {
   "cell_type": "code",
   "execution_count": null,
   "id": "218649aa",
   "metadata": {},
   "outputs": [],
   "source": [
    "import numpy as np\n",
    "import matplotlib.pyplot as plt"
   ]
  },
  {
   "cell_type": "markdown",
   "id": "62254c5e",
   "metadata": {},
   "source": [
    "## Eindimensionale lineare Regression\n",
    "Im Datensatz `linear_regression_data01.dat` sind die Ergebnisse eines Experiments zum Photoelektrischen Effekt aufgetragen. Bei diesem wird eine Kupferplatte mit Licht unterschiedlicher Frequenzen bestrahlt. Aus der Platte treten Elektronen aus, deren (kinetische) Energie gemessen wird. Die Frequenzen sind in $\\mathrm{PHz}=10^{15}\\,\\mathrm{Hz}$ angegeben, während die Energien in $\\mathrm{eV}=1{,}6\\cdot 10^{-19}\\,\\mathrm{J}$ angegeben sind.\n",
    "\n",
    "__Aufgabe__: Vervollständige das untenstehende Codegerüst, um Dich davon zu überzeugen, dass zwischen den Energien und den Frequenzen ein linearer Zusammenhang besteht. "
   ]
  },
  {
   "cell_type": "code",
   "execution_count": null,
   "id": "cda60bda",
   "metadata": {},
   "outputs": [],
   "source": [
    "# Lade den Datensatz\n",
    "f, E = \n",
    "\n",
    "# Trage die Daten in einem Streudiagramm auf\n",
    "plt.scatter()\n",
    "\n",
    "# Achsenbeschriftung \n",
    "plt.xlabel(r'$f$ in $\\mathrm{PHz}$')\n",
    "plt.ylabel(r'$E$ in $\\mathrm{eV}$')\n",
    "\n",
    "# Koordinatengitter\n",
    "plt.xticks(np.arange(11))\n",
    "plt.grid(True, linestyle = '--')\n",
    "\n",
    "plt.show()"
   ]
  },
  {
   "cell_type": "markdown",
   "id": "68fb9bbc",
   "metadata": {},
   "source": [
    "### Ideale Parameter"
   ]
  },
  {
   "cell_type": "markdown",
   "id": "95cc24fe",
   "metadata": {},
   "source": [
    "In der Vorlesung wurde besprochen, dass für eine Ausgleichsgerade $y = w_1x+w_0$ die idealen Gewichte durch\n",
    "$$\n",
    "w_1 = \\frac{s(x, y)}{s(x, x)}\\quad\\quad w_0 = \\langle y\\rangle-w_1\\langle x\\rangle\n",
    "$$\n",
    "gegeben sind. Hierbei ist \n",
    "$ \\langle x\\rangle =\\frac{1}{N}\\sum_{i=1}^{N}x_i$\n",
    "das _arithemtrische Mittel_ und $s(x, y)=\\langle x\\cdot y\\rangle-\\langle x\\rangle\\langle y\\rangle$ die _Kovarianz_.\n",
    "\n",
    "__Aufgabe__: Implimentiere zunächst mit Hilfe der Funktion `np.sum()` das arithemtrische Mittel `mittel()` und die Kovarianz `kovar()` als eine Python-Funktion. Verwende diese dann, um die idealen Gewichte zu bestimme. Fertige dann eine Skizze mit den Daten und der Ausgleichsgeraden an."
   ]
  },
  {
   "cell_type": "markdown",
   "id": "90d1da85",
   "metadata": {},
   "source": [
    "#### Aritmetrisches Mittel und Kovarianz als Funktion"
   ]
  },
  {
   "cell_type": "code",
   "execution_count": null,
   "id": "294adb3d",
   "metadata": {},
   "outputs": [],
   "source": [
    "# Funktion die das arithmetrische Mittel eines Arrays zurück gibt\n",
    "def mittel(x):\n",
    "    return \n",
    "\n",
    "# Funktion die die Kovarianz zweier Arrays gleicher Länge zurück gibt.\n",
    "def kovar(x, y):\n",
    "    return "
   ]
  },
  {
   "cell_type": "markdown",
   "id": "72e72a8d",
   "metadata": {},
   "source": [
    "#### Bestimmen der idealen Gewichte"
   ]
  },
  {
   "cell_type": "code",
   "execution_count": null,
   "id": "faeeec41",
   "metadata": {},
   "outputs": [],
   "source": [
    "# Bestimmen der Steigung gemäß obiger Formel\n",
    "w1 =\n",
    "\n",
    "# Bestimmen des Achsenabschnitts gemäß obiger Formel\n",
    "w0 = \n",
    "\n",
    "# Ausgabe der Werte\n",
    "print(f'Die Steigung der Ausgleichsgerade ist durch {w1:.2f} eV/PHz gegeben.')\n",
    "print(f'Der E-Achsenabschnitt der Ausgleichsgerade ist durch {w0:.2f} eV gegeben.')"
   ]
  },
  {
   "cell_type": "markdown",
   "id": "369c71c5",
   "metadata": {},
   "source": [
    "#### Skizzieren der Daten und Ausgleichsgeraden"
   ]
  },
  {
   "cell_type": "code",
   "execution_count": null,
   "id": "60296eeb",
   "metadata": {},
   "outputs": [],
   "source": [
    "# Trage die Daten in einem Streudiagramm auf\n",
    "plt.scatter()\n",
    "\n",
    "# Erstellen eines Arrays an Frequenzen für die Auftragung\n",
    "F = np.linspace(0, 10, 100)\n",
    "\n",
    "# Auftragen der Ausgleichsgerade\n",
    "\n",
    "\n",
    "# Achsenbeschriftung \n",
    "plt.xlabel(r'$f$ in $\\mathrm{PHz}$')\n",
    "plt.ylabel(r'$E$ in $\\mathrm{eV}$')\n",
    "\n",
    "# Koordinatengitter\n",
    "plt.xticks(np.arange(11))\n",
    "plt.grid(True, linestyle = '--')\n",
    "\n",
    "plt.show()"
   ]
  },
  {
   "cell_type": "markdown",
   "id": "3d36a783",
   "metadata": {},
   "source": [
    "### Gradientenabstieg"
   ]
  },
  {
   "cell_type": "markdown",
   "id": "7deb7dde",
   "metadata": {},
   "source": [
    "In der Vorlesung wurde auch besprochen, dass sich die idealen Gewichte durch ein Gradientenabstiegsverfahren zumindest näherungsweise bestimmen lassen sollten. Dazu wurde der Gradient des empirischen Risikos durch\n",
    "$$\n",
    "    \\nabla_{\\vec{w}} \\hat{R}(\\vec{w})=\\frac{2}{N}\\underline{X}'(\\underline{X}'\\vec{w}-\\vec{y})\n",
    "$$\n",
    "ermittelt. Darin sind $\\vec{w}\\in\\mathbb{R}^2$ der Gewichtsvektor, $\\vec{y}\\in\\mathbb{R}^N$ der Ergebnisvektor und \n",
    "$$\n",
    "\\underline{X}'=\\begin{pmatrix}\n",
    "1 & x_1\\\\\n",
    "1 & x_2\\\\\n",
    "\\vdots & \\vdots\\\\\n",
    "1 & x_N\n",
    "\\end{pmatrix}\\in\\mathbb{R}^{N\\times 2}\n",
    "$$\n",
    "die erweiteret Datenmatrix. Bei einer Iteration sind die neuen Gewichte durch\n",
    "$$\n",
    "\\vec{w}^{(n+1)}=\\vec{w}^{(n)}-\\eta  \\nabla_{\\vec{w}} \\hat{R}(\\vec{w}^{(n)})\n",
    "$$\n",
    "bestimmt, wobei $\\eta$ die Lernrate ist.\n",
    "\n",
    "__Aufgabe__: Ergänze das nachstehende Code-Gerüst, um das Gradientenabstiegsverfahren zu implementieren und bestimme auf diese Weise die Ausgleichsgerade. Probiere verschiedene Werte für die Lernrate und die Anzahl der Lernepochen aus. Gibt es Wahlen dieser (Hyper-) Parameter, die die gleichen Ergebnisse wie die idealen Gewichte ergeben? \n",
    "_Tipp_: Unterschlage den Faktor $\\frac{2}{N}$ im Gradienten."
   ]
  },
  {
   "cell_type": "markdown",
   "id": "585f17a1",
   "metadata": {},
   "source": [
    "#### Implementieren des Gradientanabstiegsverfahrens"
   ]
  },
  {
   "cell_type": "code",
   "execution_count": null,
   "id": "e26ea4df",
   "metadata": {},
   "outputs": [],
   "source": [
    "# Festlegen der Lernrate \n",
    "eta = 10**(-4)\n",
    "\n",
    "# Festlegen der Anzahl der benötigten Schritte\n",
    "epochen = 1000\n",
    "\n",
    "# Festlegen initialer Gewichte\n",
    "W = \n",
    "\n",
    "# Formatieren der Frequenzen in eine erweiteret Datenmatrix\n",
    "N = len(f)    # Anzahl der Datenpunkte\n",
    "X = \n",
    "\n",
    "for n in range(N):\n",
    "    X[n] = \n",
    "    \n",
    "# Ausführen des Gradientenabstiegsverfahren\n",
    "for n in range(epochen):\n",
    "    W = \n",
    "    \n",
    "# Ausgabe der Werte\n",
    "print(f'Die Steigung der Ausgleichsgerade ist durch {W[1]:.2f} eV/PHz gegeben.')\n",
    "print(f'Der E-Achsenabschnitt der Ausgleichsgerade ist durch {W[0]:.2f} eV gegeben.')"
   ]
  },
  {
   "cell_type": "markdown",
   "id": "1076366a",
   "metadata": {},
   "source": [
    "#### Auftragen der Ausgleichsgeraden"
   ]
  },
  {
   "cell_type": "code",
   "execution_count": null,
   "id": "aa507f0a",
   "metadata": {
    "scrolled": true
   },
   "outputs": [],
   "source": [
    "# Trage die Daten in einem Streudiagramm auf\n",
    "plt.scatter()\n",
    "\n",
    "# Erstellen eines Arrays an Frequenzen für die Auftragung\n",
    "F = np.linspace(0, 10, 100)\n",
    "\n",
    "# Auftragen der idealen Ausgleichsgerade\n",
    "plt.plot()\n",
    "\n",
    "# Auftragen der Ausgleichsgeraden aus dem Gradientenabstieg\n",
    "plt.plot()\n",
    "\n",
    "# Achsenbeschriftung \n",
    "plt.xlabel(r'$f$ in $\\mathrm{PHz}$')\n",
    "plt.ylabel(r'$E$ in $\\mathrm{eV}$')\n",
    "\n",
    "# Koordinatengitter\n",
    "plt.xticks(np.arange(11))\n",
    "plt.grid(True, linestyle = '--')\n",
    "\n",
    "plt.show()"
   ]
  },
  {
   "cell_type": "markdown",
   "id": "e1f6f6e1",
   "metadata": {},
   "source": [
    "## Feature engineering\n",
    "In der Vorlesung wurde besprochen, dass manche Daten vorher durch eine Funktion $\\phi$ in einen passenden Raum überführt werden müssen, um eine lineare Regression durchführen zu können. Betrachte dazu den Datensatz `linear_regression_data02.dat`. Darin sind die Abstände der Planeten von der Sonne in Vielfachen des Erdabstandes ($\\sim 149{,}6\\cdot 10^9\\,\\mathrm{m}$) und ihre Umlaufzeiten in Vielfachen von Erdjahren ($\\sim 3{,}156\\cdot 10^{7}\\,\\mathrm{s}$) angegeben. \n",
    "\n",
    "__Aufgabe__: Trage die Umlaufszeiten $T$ gegen die Abstände $a$ auf und stelle eine Vermutung über den funktionalen Zusammenhang an."
   ]
  },
  {
   "cell_type": "code",
   "execution_count": null,
   "id": "b5ce6c06",
   "metadata": {},
   "outputs": [],
   "source": [
    "# Lade den Datensatz\n",
    "a, T = \n",
    "\n",
    "# Trage die Daten in einem Streudiagramm auf\n",
    "plt.scatter()\n",
    "\n",
    "# Achsenbeschriftung \n",
    "plt.xlabel(r'$a$ in $\\mathrm{AE}$')\n",
    "plt.ylabel(r'$T$ in $\\mathrm{yr}$')\n",
    "\n",
    "# Koordinatengitter\n",
    "plt.grid(True, linestyle = '--')\n",
    "\n",
    "plt.show()"
   ]
  },
  {
   "cell_type": "markdown",
   "id": "c33e7bab",
   "metadata": {},
   "source": [
    "### Feature map auswählen\n",
    "In der Vorlesung haben wir einige mögliche Feature maps besprochen. Diese sind Abbildungen $\\phi_x:X\\to \\mathbb{R}^n$, $\\phi_y:Y\\to \\mathbb{R}^m$, die es erlauben auch nicht lineare Zusammenhänge durch eine lineare Regression behandeln zu können.\n",
    "\n",
    "__Aufageb__: Wähle eine solche aus und trage damit die Daten nocheinmal auf. Verwende das Gradientenabstiegsverfahren, um eine lineare Regression durchzuführen und bestimme so den funktionalen Zusammenhang zwischen der Umlaufzeit und dem Abstand zur Sonne. Welche Umlaufszeit würdest Du nach diesem Modell für einen Planet in Abstand $a = 2{,}766\\,\\mathrm{AE}$ erwarten?"
   ]
  },
  {
   "cell_type": "markdown",
   "id": "23eb806a",
   "metadata": {},
   "source": [
    "#### Feature map und Auftragung der Daten"
   ]
  },
  {
   "cell_type": "code",
   "execution_count": null,
   "id": "112dcb85",
   "metadata": {},
   "outputs": [],
   "source": [
    "# Wende die Feature map an\n",
    "a, T = \n",
    "\n",
    "# Trage die Daten in einem Streudiagramm auf\n",
    "plt.scatter()\n",
    "\n",
    "# Koordinatengitter\n",
    "plt.grid(True, linestyle = '--')\n",
    "\n",
    "plt.show()"
   ]
  },
  {
   "cell_type": "markdown",
   "id": "719c2cb0",
   "metadata": {},
   "source": [
    "#### Bestimmen der Ausgleichsgeraden"
   ]
  },
  {
   "cell_type": "code",
   "execution_count": null,
   "id": "7b1eae93",
   "metadata": {},
   "outputs": [],
   "source": [
    "# Aufbauen der erweiterten Datenmatrix\n",
    "N = len(a)\n",
    "X = \n",
    "for n in range(N):\n",
    "    X[n] = \n",
    "\n",
    "# Durchführen der linearen Regression\n",
    "epochen = 1000\n",
    "learning_rate = 10**(-4)\n",
    "\n",
    "w = \n",
    "\n",
    "for n in range(epochen):\n",
    "    w = \n",
    "\n",
    "print(w)"
   ]
  },
  {
   "cell_type": "markdown",
   "id": "b95710c8",
   "metadata": {},
   "source": [
    "#### Auftragen der Ausgleichsgeraden"
   ]
  },
  {
   "cell_type": "code",
   "execution_count": null,
   "id": "bbb8a654",
   "metadata": {},
   "outputs": [],
   "source": [
    "# Trage die Daten in einem Streudiagramm auf\n",
    "plt.scatter()\n",
    "\n",
    "# Auftragen der Ausgleichsgeraden\n",
    "A = np.linspace(-1, 3.5, 100)\n",
    "plt.plot()\n",
    "\n",
    "\n",
    "# Koordinatengitter\n",
    "plt.grid(True, linestyle = '--')\n",
    "\n",
    "plt.show()"
   ]
  },
  {
   "cell_type": "markdown",
   "id": "fc6250eb",
   "metadata": {},
   "source": [
    "## Polynomielle Modelle durch lineare Regression"
   ]
  },
  {
   "cell_type": "markdown",
   "id": "9035068b",
   "metadata": {},
   "source": [
    "In der Vorlesung wurde auch darüber gesprochen, wie sich ein polynomielles Modell mit einer linearen Regression bestimmen lassen kann. Im Datensatz `linear_regression_data03.dat` ist der Ort eines Autos in Metern zu festen Zeitpunkten in Sekunden angegeben. \n",
    "\n",
    "__Aufgabe__: Trage die Daten auf und entscheide, welchen Grad das polynomielle Modell haben sollte."
   ]
  },
  {
   "cell_type": "code",
   "execution_count": null,
   "id": "e5994d4b",
   "metadata": {},
   "outputs": [],
   "source": [
    "# Laden der Daten\n",
    "t, x = \n",
    "\n",
    "# Auftragen der Daten\n",
    "plt.scatter()\n",
    "\n",
    "# Beschriften der Achsen\n",
    "plt.xlabel('Zeit in Sekunden')\n",
    "plt.ylabel('Ort in Meter')\n",
    "\n",
    "plt.show()"
   ]
  },
  {
   "cell_type": "markdown",
   "id": "d26b74f2",
   "metadata": {},
   "source": [
    "Ein linearer Zusammenhang besteht sicher nicht. Ein quadratischer Zusammenhang ist möglich, falls es sich beim ersten Datenpunkt um einen Ausreißer handelt. Ein Polynom dritten Grades könnte die Daten sehr gut annähren."
   ]
  },
  {
   "cell_type": "markdown",
   "id": "e9e392ee",
   "metadata": {},
   "source": [
    "### Optimales Modell finden\n",
    "__Aufgabe__: Führe nun ein Gradientenabstiegverfahren sowohl für ein quadratisches ($g=2$), wie auch ein kubisches ($g = 3$) Modell durch. Plotte beide Modelle in die gleiche Skizze und ermittle deren jeweiligen Trainingsfehler $$\\hat{R}(D_{\\mathrm{Tr}})=\\frac{1}{N}\\sum_{i=1}^{N}(h_{\\vec{w}}(x_i)-y_i)^2$$\n",
    "\n",
    "_Tipp_: In diesem Fall lohnt es sich, bereits gute Startparameter zu schätzen."
   ]
  },
  {
   "cell_type": "markdown",
   "id": "2de0f610",
   "metadata": {},
   "source": [
    "#### Quadratisches Modell"
   ]
  },
  {
   "cell_type": "code",
   "execution_count": null,
   "id": "0d3a9fbd",
   "metadata": {},
   "outputs": [],
   "source": [
    "# Anzahl der Datenpunkte \n",
    "N = len(t)\n",
    "\n",
    "# Aufstellen der erweiterten Datenmatrix\n",
    "X_quadr = \n",
    "for n in range(N):\n",
    "    X_quadr[n] = \n",
    "    \n",
    "# Ermitteln der idealen Gewichte\n",
    "w_quadr = np.array([0,0,0])\n",
    "\n",
    "learning_rate = 10**(-4)\n",
    "epochen = 1000\n",
    "\n",
    "for n in range(epochen):\n",
    "    w_quadr = \n",
    "\n",
    "# Bestimmen des Trainingsfehlers\n",
    "R_quadr = \n",
    "\n",
    "print(f'Der Trainingsfehler des quadratischen Modells liegt bei {R_quadr:.2f}')"
   ]
  },
  {
   "cell_type": "markdown",
   "id": "c67982d8",
   "metadata": {},
   "source": [
    "#### Kubisches Modell"
   ]
  },
  {
   "cell_type": "code",
   "execution_count": null,
   "id": "02e79612",
   "metadata": {},
   "outputs": [],
   "source": [
    "# Aufstellen der erweiterten Datenmatrix\n",
    "X_kub = \n",
    "for n in range(N):\n",
    "    X_kub[n] = \n",
    "    \n",
    "# Ermitteln der idealen Gewichte\n",
    "w_kub = np.array([0,0,0,0])\n",
    "\n",
    "learning_rate = 10**(-4)\n",
    "epochen = 1000\n",
    "\n",
    "for n in range(epochen):\n",
    "    w_kub = \n",
    "\n",
    "# Bestimmen des Trainingsfehlers\n",
    "R_kub = \n",
    "\n",
    "print(f'Der Trainingsfehler des kubischen Modells liegt bei {R_kub:.2f}')"
   ]
  },
  {
   "cell_type": "markdown",
   "id": "0d19cd08",
   "metadata": {},
   "source": [
    "#### Gemeinsames Auftragen der Daten"
   ]
  },
  {
   "cell_type": "code",
   "execution_count": null,
   "id": "dcd4c919",
   "metadata": {},
   "outputs": [],
   "source": [
    "# Auftragen der Daten\n",
    "plt.scatter()\n",
    "\n",
    "# Auftragen des quadratischen Modells\n",
    "T = np.linspace(np.min(t), np.max(t), 100)\n",
    "plt.plot()\n",
    "\n",
    "# Auftragen des kubischen Modells\n",
    "plt.plot()\n",
    "\n",
    "# Beschriften der Achsen\n",
    "plt.xlabel('Zeit in Sekunden')\n",
    "plt.ylabel('Ort in Meter')\n",
    "\n",
    "plt.show()"
   ]
  },
  {
   "cell_type": "markdown",
   "id": "9b045628",
   "metadata": {},
   "source": [
    "### Testen der Modell\n",
    "Im Datensatz `linear_regression_data04.dat` liegt eine genauere Messung der Situation vor. \n",
    "\n",
    "__Aufgabe__: Verwende diese, um den Testfehler und den Verallgemeinerungsfehler (Generalization Gap) der beiden Modelle zu bewerten. Welches der Modelle beschreibt die Situation besser? Was sind die Bedeutungen der einzelnen Parameter?"
   ]
  },
  {
   "cell_type": "code",
   "execution_count": null,
   "id": "25df7f22",
   "metadata": {},
   "outputs": [],
   "source": [
    "### Auftragen der neuen Daten und der Modelle ###\n",
    "t_test, x_test = \n",
    "\n",
    "plt.scatter()\n",
    "\n",
    "# Auftragen des quadratischen Modells\n",
    "T = np.linspace(np.min(t_test), np.max(t_test), 100)\n",
    "plt.plot()\n",
    "\n",
    "# Auftragen des kubischen Modells\n",
    "plt.plot()\n",
    "\n",
    "# Beschriften der Achsen\n",
    "plt.xlabel('Zeit in Sekunden')\n",
    "plt.ylabel('Ort in Meter')\n",
    "\n",
    "plt.show()"
   ]
  },
  {
   "cell_type": "code",
   "execution_count": null,
   "id": "f8457135",
   "metadata": {},
   "outputs": [],
   "source": [
    "# Anzahl der Datenpunkte \n",
    "N = len(t_test)\n",
    "\n",
    "### Quadratisches Modell ###\n",
    "# Aufstellen der erweiterten Datenmatrix\n",
    "X_quadr_test = \n",
    "for n in range(N):\n",
    "    X_quadr_test[n] = \n",
    "\n",
    "# Bestimme den Test- und Verallgemeinerungsfehler für das quadratische Modell\n",
    "R_quadr_test = \n",
    "G_quadr =\n",
    "\n",
    "\n",
    "### kubisches Modell ###\n",
    "# Aufstellen der erweiterten Datenmatrix\n",
    "X_kub_test = \n",
    "for n in range(N):\n",
    "    X_kub_test[n] = \n",
    "\n",
    "# Bestimme den Validerungs- und Verallgemeinerungsfehler für das quadratische Modell\n",
    "R_kub_test =\n",
    "G_kub =\n",
    "\n",
    "print(f'Der Testfehler des quadratischen Modells ist {R_quadr_test:.2f} und der Verallgemeinerungsfehler ist {G_quadr:.2f}')\n",
    "print(f'Der Testfehler des kubischen Modells ist {R_kub_test:.2f} und der Verallgemeinerungsfehler ist {G_kub:.2f}')\n"
   ]
  }
 ],
 "metadata": {
  "kernelspec": {
   "display_name": "Python 3 (ipykernel)",
   "language": "python",
   "name": "python3"
  },
  "language_info": {
   "codemirror_mode": {
    "name": "ipython",
    "version": 3
   },
   "file_extension": ".py",
   "mimetype": "text/x-python",
   "name": "python",
   "nbconvert_exporter": "python",
   "pygments_lexer": "ipython3",
   "version": "3.8.1"
  }
 },
 "nbformat": 4,
 "nbformat_minor": 5
}
