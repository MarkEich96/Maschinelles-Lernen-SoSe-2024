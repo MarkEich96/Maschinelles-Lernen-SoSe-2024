{
 "cells": [
  {
   "cell_type": "markdown",
   "id": "dfcaed1a",
   "metadata": {},
   "source": [
    "# Gradientenabstiegsverfahren\n",
    "In diesem kleinen Notebook soll das Gradientenabstiegsverfahren an einem eindimensionalen Beispiel ausprobiert werden. Ziel ist des dabei den $x$-Wert für das Extremum der Funktion $f(x)=\\frac{1}{2}x^2+\\mathrm{e}^{-x}$ zu finden. Wie in der Vorlesung bereits besprochen handelt es sich dabei um die $\\Omega$-Konstante $\\Omega = W(1)\\approx 0{,}567\\,143\\,290\\,409\\,783\\,\\dots$."
   ]
  },
  {
   "cell_type": "markdown",
   "id": "53207ef8",
   "metadata": {},
   "source": [
    "Für die Berechnung wird das Paket ``numpy`` verwendet und entsprechend in das Notebook geladen."
   ]
  },
  {
   "cell_type": "code",
   "execution_count": null,
   "id": "98ede51e",
   "metadata": {},
   "outputs": [],
   "source": [
    "import numpy as np"
   ]
  },
  {
   "cell_type": "markdown",
   "id": "5d2eacbc",
   "metadata": {},
   "source": [
    "Als nächstes muss die Ableitung von $f(x)$ als Python-Funktion definiert werden. Ergänze hierfür die Funktionsvorschrift nach ``return``. Verwende dazu auch die ``numpy``-Funktion ``np.exp(x)`` für die Exponentialfunktion."
   ]
  },
  {
   "cell_type": "code",
   "execution_count": null,
   "id": "a5f022d6",
   "metadata": {},
   "outputs": [],
   "source": [
    "def f_prime(x):\n",
    "    return "
   ]
  },
  {
   "cell_type": "markdown",
   "id": "e475a65f",
   "metadata": {},
   "source": [
    "Ergänze im Folgenden Codegerüst die Regressionsformel für das Gradientenabstiegsverfahren, sowie die Werte für die Lernrate ``eta`` und den Startpunkt ``x0``. Führe den Code anschließend aus und vergleiche den erhaltenen Wert für den $x$-Wert der Extremalstelle mit der oben angegebenen $\\Omega$-Konstante. Probiere auch verschiedene Werte für die Lernrate, die Anzahl der Schritte ``N`` und des Anfangswert aus. Welche Werte funktionieren besonders gut?"
   ]
  },
  {
   "cell_type": "code",
   "execution_count": null,
   "id": "887e81a8",
   "metadata": {},
   "outputs": [],
   "source": [
    "# Lege die Schrittweite eta und den Startpunkt x0 fest\n",
    "eta = \n",
    "x0 = \n",
    "\n",
    "# Lege die Anzahl der Schritte fest\n",
    "N = 1000\n",
    "x = np.zeros(N+1)\n",
    "x[0] = x0\n",
    "\n",
    "# Ergänze die Befehle in der Schleife\n",
    "for n in range(N):\n",
    "    xn = x[n]\n",
    "    x[n+1] = \n",
    "    \n",
    "print(x[N])"
   ]
  }
 ],
 "metadata": {
  "kernelspec": {
   "display_name": "Python 3 (ipykernel)",
   "language": "python",
   "name": "python3"
  },
  "language_info": {
   "codemirror_mode": {
    "name": "ipython",
    "version": 3
   },
   "file_extension": ".py",
   "mimetype": "text/x-python",
   "name": "python",
   "nbconvert_exporter": "python",
   "pygments_lexer": "ipython3",
   "version": "3.8.1"
  }
 },
 "nbformat": 4,
 "nbformat_minor": 5
}
